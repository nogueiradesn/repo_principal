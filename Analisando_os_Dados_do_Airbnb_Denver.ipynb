{
  "nbformat": 4,
  "nbformat_minor": 0,
  "metadata": {
    "colab": {
      "provenance": [],
      "include_colab_link": true
    },
    "kernelspec": {
      "name": "python3",
      "display_name": "Python 3"
    }
  },
  "cells": [
    {
      "cell_type": "markdown",
      "metadata": {
        "id": "view-in-github",
        "colab_type": "text"
      },
      "source": [
        "<a href=\"https://colab.research.google.com/github/nogueiradesn/repo_principal/blob/main/Analisando_os_Dados_do_Airbnb_Denver.ipynb\" target=\"_parent\"><img src=\"https://colab.research.google.com/assets/colab-badge.svg\" alt=\"Open In Colab\"/></a>"
      ]
    },
    {
      "cell_type": "markdown",
      "metadata": {
        "id": "kLI0gJtzDGuQ"
      },
      "source": [
        "# Análise dos Dados do Airbnb - *Denver*\n",
        "*by [David Nogueira](https://github.com)*\n",
        "\n",
        "O [Airbnb](https://www.airbnb.com.br/) já é considerado como sendo a **maior empresa hoteleira da atualidade**. Ah, o detalhe é que ele **não possui nenhum hotel**!\n",
        "\n",
        "Conectando pessoas que querem viajar (e se hospedar) com anfitriões que querem alugar seus imóveis de maneira prática, o Airbnb fornece uma plataforma inovadora para tornar essa hospedagem alternativa.\n",
        "\n",
        "No final de 2018, a Startup fundada 10 anos atrás, já havia **hospedado mais de 300 milhões** de pessoas ao redor de todo o mundo, desafiando as redes hoteleiras tradicionais.\n",
        "\n",
        "Uma das iniciativas do Airbnb é disponibilizar dados do site, para algumas das principais cidades do mundo. Por meio do portal [Inside Airbnb](http://insideairbnb.com/get-the-data.html), é possível baixar uma grande quantidade de dados para desenvolver projetos e soluções de *Data Science*.\n",
        "\n",
        "<center><img alt=\"Analisando Airbnb\" width=\"10%\" src=\"https://www.area360.com.au/wp-content/uploads/2017/09/airbnb-logo.jpg\"></center>\n",
        "\n",
        "**Neste *notebook*, iremos analisar os dados referentes à cidade Denver, Colorado, United States, e ver quais insights podem ser extraídos a partir de dados brutos.**"
      ]
    },
    {
      "cell_type": "markdown",
      "metadata": {
        "id": "0zxQHhIUDF_2"
      },
      "source": [
        "## Obtenção dos Dados\n"
      ]
    },
    {
      "cell_type": "markdown",
      "source": [
        "Todos os dados usados aqui foram obtidos do site [Inside Airbnb](http://insideairbnb.com/get-the-data/).\n",
        "Para esta análise exploratória inicial, será baixado apenas o seguinte arquivo:\n",
        "*   `listings.csv` - \tSummary information and metrics for listings in Denver (good for visualisations).\n",
        "\n",
        "Importante: O portal está em constante evolução, então pode ser que o conjunto de dados utilizado nesse notebook não esteja mais disponível, o que quebraria o código."
      ],
      "metadata": {
        "id": "Lcza2b15efYw"
      }
    },
    {
      "cell_type": "code",
      "metadata": {
        "id": "Vhp2wMPgJ6zX"
      },
      "source": [
        "# importar os pacotes necessarios\n",
        "import pandas as pd\n",
        "import matplotlib.pyplot as plt\n",
        "import seaborn as sns\n",
        "\n",
        "%matplotlib inline"
      ],
      "execution_count": 71,
      "outputs": []
    },
    {
      "cell_type": "code",
      "metadata": {
        "id": "tUmoAT8DLQ5T"
      },
      "source": [
        "# importar o arquivo listings.csv para um DataFrame\n",
        "df = pd.read_csv(\"http://data.insideairbnb.com/united-states/co/denver/2023-09-24/visualisations/listings.csv\")"
      ],
      "execution_count": 72,
      "outputs": []
    },
    {
      "cell_type": "markdown",
      "metadata": {
        "id": "qb5By2nIMS6m"
      },
      "source": [
        "## Análise dos Dados\n",
        "Esta etapa tem por objetivo criar uma consciência situacional do problema e permitir um entendimento de como os dados estão estruturados."
      ]
    },
    {
      "cell_type": "markdown",
      "metadata": {
        "id": "RYgvuebKNg8-"
      },
      "source": [
        "**Dicionário das variáveis**\n",
        "\n",
        "* id - número de id gerado para identificar o imóvel\n",
        "* name - nome da propriedade anunciada\n",
        "* host_id - número de id do proprietário (anfitrião) da propriedade\n",
        "* host_name - nome do anfitrião\n",
        "* neighbourhood_group - esta coluna não contém nenhum valor válido\n",
        "* neighbourhood - nome do bairro\n",
        "* latitude - coordenada da latitude da propriedade\n",
        "* longitude - coordenada da longitude da propriedade\n",
        "* room_type - tipo de quarto que é oferecido\n",
        "* price - preço da diária para alugar a propriedade\n",
        "* minimum_nights - quantidade mínima de noites permitida para reservar\n",
        "* number_of_reviews - número de avaliações que a propriedade possui\n",
        "* last_review - data da última avaliação recebida\n",
        "* reviews_per_month - quantidade média de avaliações por mês recebidas\n",
        "* calculated_host_listing_count - quantidade de propriedades do mesmo anfitrião listada no Airbnb\n",
        "* availability_365 - número de dias de disponibilidade no período de 365 dias\n",
        "* number_of_reviews_ltm - número de avaliações que a propriedade recebeu nos últimos 12 meses\n",
        "* license - número de registro, licença ou permissão\n",
        "\n",
        "Antes de iniciar qualquer análise, vamos verificar a cara do nosso *dataset*, analisando as 5 primeiras entradas."
      ]
    },
    {
      "cell_type": "code",
      "metadata": {
        "id": "2iS_dae7YQtO",
        "colab": {
          "base_uri": "https://localhost:8080/",
          "height": 574
        },
        "outputId": "ef9aa19d-f231-4ece-ad77-28c531dd984a"
      },
      "source": [
        "# mostrar as 5 primeiras entradas\n",
        "df.head()"
      ],
      "execution_count": 73,
      "outputs": [
        {
          "output_type": "execute_result",
          "data": {
            "text/plain": [
              "    id                                               name  host_id  \\\n",
              "0  360  Guesthouse in Denver · ★4.99 · 2 bedrooms · 2 ...      666   \n",
              "1  364  Loft in Denver · ★4.85 · 1 bedroom · 1 bed · 1...      783   \n",
              "2  590  Home in Denver · ★4.85 · 1 bedroom · 1 bed · 1...      933   \n",
              "3  592  Home in Denver · ★4.87 · 1 bedroom · 1 bed · 1...      933   \n",
              "4  686  Home in Denver · ★4.76 · 1 bedroom · 2 beds · ...      990   \n",
              "\n",
              "             host_name  neighbourhood_group       neighbourhood   latitude  \\\n",
              "0  Jennifer & Giovanni                  NaN            Highland  39.766415   \n",
              "1                Jason                  NaN         Five Points  39.766720   \n",
              "2                 Jill                  NaN     North Park Hill  39.755110   \n",
              "3                 Jill                  NaN     North Park Hill  39.754810   \n",
              "4            Alexandra                  NaN  North Capitol Hill  39.746950   \n",
              "\n",
              "    longitude        room_type  price  minimum_nights  number_of_reviews  \\\n",
              "0 -105.002098  Entire home/apt     90              30                179   \n",
              "1 -104.979060  Entire home/apt    179             185                 87   \n",
              "2 -104.911090     Private room     64               1                712   \n",
              "3 -104.911060     Private room     57              28                168   \n",
              "4 -104.978380     Private room     33              30                256   \n",
              "\n",
              "  last_review  reviews_per_month  calculated_host_listings_count  \\\n",
              "0  2023-08-05               2.87                               2   \n",
              "1  2016-04-26               0.50                               1   \n",
              "2  2023-08-27               4.04                               2   \n",
              "3  2023-06-24               0.95                               2   \n",
              "4  2021-07-16               1.39                               2   \n",
              "\n",
              "   availability_365  number_of_reviews_ltm           license  \n",
              "0               147                      7  2017-BFN-0002177  \n",
              "1               358                      0               NaN  \n",
              "2               233                     43  2021-BFN-0000578  \n",
              "3               158                      1  2021-BFN-0000578  \n",
              "4               288                      0               NaN  "
            ],
            "text/html": [
              "\n",
              "  <div id=\"df-5984e7de-8dac-4694-9353-04204b3e2222\" class=\"colab-df-container\">\n",
              "    <div>\n",
              "<style scoped>\n",
              "    .dataframe tbody tr th:only-of-type {\n",
              "        vertical-align: middle;\n",
              "    }\n",
              "\n",
              "    .dataframe tbody tr th {\n",
              "        vertical-align: top;\n",
              "    }\n",
              "\n",
              "    .dataframe thead th {\n",
              "        text-align: right;\n",
              "    }\n",
              "</style>\n",
              "<table border=\"1\" class=\"dataframe\">\n",
              "  <thead>\n",
              "    <tr style=\"text-align: right;\">\n",
              "      <th></th>\n",
              "      <th>id</th>\n",
              "      <th>name</th>\n",
              "      <th>host_id</th>\n",
              "      <th>host_name</th>\n",
              "      <th>neighbourhood_group</th>\n",
              "      <th>neighbourhood</th>\n",
              "      <th>latitude</th>\n",
              "      <th>longitude</th>\n",
              "      <th>room_type</th>\n",
              "      <th>price</th>\n",
              "      <th>minimum_nights</th>\n",
              "      <th>number_of_reviews</th>\n",
              "      <th>last_review</th>\n",
              "      <th>reviews_per_month</th>\n",
              "      <th>calculated_host_listings_count</th>\n",
              "      <th>availability_365</th>\n",
              "      <th>number_of_reviews_ltm</th>\n",
              "      <th>license</th>\n",
              "    </tr>\n",
              "  </thead>\n",
              "  <tbody>\n",
              "    <tr>\n",
              "      <th>0</th>\n",
              "      <td>360</td>\n",
              "      <td>Guesthouse in Denver · ★4.99 · 2 bedrooms · 2 ...</td>\n",
              "      <td>666</td>\n",
              "      <td>Jennifer &amp; Giovanni</td>\n",
              "      <td>NaN</td>\n",
              "      <td>Highland</td>\n",
              "      <td>39.766415</td>\n",
              "      <td>-105.002098</td>\n",
              "      <td>Entire home/apt</td>\n",
              "      <td>90</td>\n",
              "      <td>30</td>\n",
              "      <td>179</td>\n",
              "      <td>2023-08-05</td>\n",
              "      <td>2.87</td>\n",
              "      <td>2</td>\n",
              "      <td>147</td>\n",
              "      <td>7</td>\n",
              "      <td>2017-BFN-0002177</td>\n",
              "    </tr>\n",
              "    <tr>\n",
              "      <th>1</th>\n",
              "      <td>364</td>\n",
              "      <td>Loft in Denver · ★4.85 · 1 bedroom · 1 bed · 1...</td>\n",
              "      <td>783</td>\n",
              "      <td>Jason</td>\n",
              "      <td>NaN</td>\n",
              "      <td>Five Points</td>\n",
              "      <td>39.766720</td>\n",
              "      <td>-104.979060</td>\n",
              "      <td>Entire home/apt</td>\n",
              "      <td>179</td>\n",
              "      <td>185</td>\n",
              "      <td>87</td>\n",
              "      <td>2016-04-26</td>\n",
              "      <td>0.50</td>\n",
              "      <td>1</td>\n",
              "      <td>358</td>\n",
              "      <td>0</td>\n",
              "      <td>NaN</td>\n",
              "    </tr>\n",
              "    <tr>\n",
              "      <th>2</th>\n",
              "      <td>590</td>\n",
              "      <td>Home in Denver · ★4.85 · 1 bedroom · 1 bed · 1...</td>\n",
              "      <td>933</td>\n",
              "      <td>Jill</td>\n",
              "      <td>NaN</td>\n",
              "      <td>North Park Hill</td>\n",
              "      <td>39.755110</td>\n",
              "      <td>-104.911090</td>\n",
              "      <td>Private room</td>\n",
              "      <td>64</td>\n",
              "      <td>1</td>\n",
              "      <td>712</td>\n",
              "      <td>2023-08-27</td>\n",
              "      <td>4.04</td>\n",
              "      <td>2</td>\n",
              "      <td>233</td>\n",
              "      <td>43</td>\n",
              "      <td>2021-BFN-0000578</td>\n",
              "    </tr>\n",
              "    <tr>\n",
              "      <th>3</th>\n",
              "      <td>592</td>\n",
              "      <td>Home in Denver · ★4.87 · 1 bedroom · 1 bed · 1...</td>\n",
              "      <td>933</td>\n",
              "      <td>Jill</td>\n",
              "      <td>NaN</td>\n",
              "      <td>North Park Hill</td>\n",
              "      <td>39.754810</td>\n",
              "      <td>-104.911060</td>\n",
              "      <td>Private room</td>\n",
              "      <td>57</td>\n",
              "      <td>28</td>\n",
              "      <td>168</td>\n",
              "      <td>2023-06-24</td>\n",
              "      <td>0.95</td>\n",
              "      <td>2</td>\n",
              "      <td>158</td>\n",
              "      <td>1</td>\n",
              "      <td>2021-BFN-0000578</td>\n",
              "    </tr>\n",
              "    <tr>\n",
              "      <th>4</th>\n",
              "      <td>686</td>\n",
              "      <td>Home in Denver · ★4.76 · 1 bedroom · 2 beds · ...</td>\n",
              "      <td>990</td>\n",
              "      <td>Alexandra</td>\n",
              "      <td>NaN</td>\n",
              "      <td>North Capitol Hill</td>\n",
              "      <td>39.746950</td>\n",
              "      <td>-104.978380</td>\n",
              "      <td>Private room</td>\n",
              "      <td>33</td>\n",
              "      <td>30</td>\n",
              "      <td>256</td>\n",
              "      <td>2021-07-16</td>\n",
              "      <td>1.39</td>\n",
              "      <td>2</td>\n",
              "      <td>288</td>\n",
              "      <td>0</td>\n",
              "      <td>NaN</td>\n",
              "    </tr>\n",
              "  </tbody>\n",
              "</table>\n",
              "</div>\n",
              "    <div class=\"colab-df-buttons\">\n",
              "\n",
              "  <div class=\"colab-df-container\">\n",
              "    <button class=\"colab-df-convert\" onclick=\"convertToInteractive('df-5984e7de-8dac-4694-9353-04204b3e2222')\"\n",
              "            title=\"Convert this dataframe to an interactive table.\"\n",
              "            style=\"display:none;\">\n",
              "\n",
              "  <svg xmlns=\"http://www.w3.org/2000/svg\" height=\"24px\" viewBox=\"0 -960 960 960\">\n",
              "    <path d=\"M120-120v-720h720v720H120Zm60-500h600v-160H180v160Zm220 220h160v-160H400v160Zm0 220h160v-160H400v160ZM180-400h160v-160H180v160Zm440 0h160v-160H620v160ZM180-180h160v-160H180v160Zm440 0h160v-160H620v160Z\"/>\n",
              "  </svg>\n",
              "    </button>\n",
              "\n",
              "  <style>\n",
              "    .colab-df-container {\n",
              "      display:flex;\n",
              "      gap: 12px;\n",
              "    }\n",
              "\n",
              "    .colab-df-convert {\n",
              "      background-color: #E8F0FE;\n",
              "      border: none;\n",
              "      border-radius: 50%;\n",
              "      cursor: pointer;\n",
              "      display: none;\n",
              "      fill: #1967D2;\n",
              "      height: 32px;\n",
              "      padding: 0 0 0 0;\n",
              "      width: 32px;\n",
              "    }\n",
              "\n",
              "    .colab-df-convert:hover {\n",
              "      background-color: #E2EBFA;\n",
              "      box-shadow: 0px 1px 2px rgba(60, 64, 67, 0.3), 0px 1px 3px 1px rgba(60, 64, 67, 0.15);\n",
              "      fill: #174EA6;\n",
              "    }\n",
              "\n",
              "    .colab-df-buttons div {\n",
              "      margin-bottom: 4px;\n",
              "    }\n",
              "\n",
              "    [theme=dark] .colab-df-convert {\n",
              "      background-color: #3B4455;\n",
              "      fill: #D2E3FC;\n",
              "    }\n",
              "\n",
              "    [theme=dark] .colab-df-convert:hover {\n",
              "      background-color: #434B5C;\n",
              "      box-shadow: 0px 1px 3px 1px rgba(0, 0, 0, 0.15);\n",
              "      filter: drop-shadow(0px 1px 2px rgba(0, 0, 0, 0.3));\n",
              "      fill: #FFFFFF;\n",
              "    }\n",
              "  </style>\n",
              "\n",
              "    <script>\n",
              "      const buttonEl =\n",
              "        document.querySelector('#df-5984e7de-8dac-4694-9353-04204b3e2222 button.colab-df-convert');\n",
              "      buttonEl.style.display =\n",
              "        google.colab.kernel.accessAllowed ? 'block' : 'none';\n",
              "\n",
              "      async function convertToInteractive(key) {\n",
              "        const element = document.querySelector('#df-5984e7de-8dac-4694-9353-04204b3e2222');\n",
              "        const dataTable =\n",
              "          await google.colab.kernel.invokeFunction('convertToInteractive',\n",
              "                                                    [key], {});\n",
              "        if (!dataTable) return;\n",
              "\n",
              "        const docLinkHtml = 'Like what you see? Visit the ' +\n",
              "          '<a target=\"_blank\" href=https://colab.research.google.com/notebooks/data_table.ipynb>data table notebook</a>'\n",
              "          + ' to learn more about interactive tables.';\n",
              "        element.innerHTML = '';\n",
              "        dataTable['output_type'] = 'display_data';\n",
              "        await google.colab.output.renderOutput(dataTable, element);\n",
              "        const docLink = document.createElement('div');\n",
              "        docLink.innerHTML = docLinkHtml;\n",
              "        element.appendChild(docLink);\n",
              "      }\n",
              "    </script>\n",
              "  </div>\n",
              "\n",
              "\n",
              "<div id=\"df-31507833-4b37-4549-9dc4-baa0d5009ab1\">\n",
              "  <button class=\"colab-df-quickchart\" onclick=\"quickchart('df-31507833-4b37-4549-9dc4-baa0d5009ab1')\"\n",
              "            title=\"Suggest charts\"\n",
              "            style=\"display:none;\">\n",
              "\n",
              "<svg xmlns=\"http://www.w3.org/2000/svg\" height=\"24px\"viewBox=\"0 0 24 24\"\n",
              "     width=\"24px\">\n",
              "    <g>\n",
              "        <path d=\"M19 3H5c-1.1 0-2 .9-2 2v14c0 1.1.9 2 2 2h14c1.1 0 2-.9 2-2V5c0-1.1-.9-2-2-2zM9 17H7v-7h2v7zm4 0h-2V7h2v10zm4 0h-2v-4h2v4z\"/>\n",
              "    </g>\n",
              "</svg>\n",
              "  </button>\n",
              "\n",
              "<style>\n",
              "  .colab-df-quickchart {\n",
              "      --bg-color: #E8F0FE;\n",
              "      --fill-color: #1967D2;\n",
              "      --hover-bg-color: #E2EBFA;\n",
              "      --hover-fill-color: #174EA6;\n",
              "      --disabled-fill-color: #AAA;\n",
              "      --disabled-bg-color: #DDD;\n",
              "  }\n",
              "\n",
              "  [theme=dark] .colab-df-quickchart {\n",
              "      --bg-color: #3B4455;\n",
              "      --fill-color: #D2E3FC;\n",
              "      --hover-bg-color: #434B5C;\n",
              "      --hover-fill-color: #FFFFFF;\n",
              "      --disabled-bg-color: #3B4455;\n",
              "      --disabled-fill-color: #666;\n",
              "  }\n",
              "\n",
              "  .colab-df-quickchart {\n",
              "    background-color: var(--bg-color);\n",
              "    border: none;\n",
              "    border-radius: 50%;\n",
              "    cursor: pointer;\n",
              "    display: none;\n",
              "    fill: var(--fill-color);\n",
              "    height: 32px;\n",
              "    padding: 0;\n",
              "    width: 32px;\n",
              "  }\n",
              "\n",
              "  .colab-df-quickchart:hover {\n",
              "    background-color: var(--hover-bg-color);\n",
              "    box-shadow: 0 1px 2px rgba(60, 64, 67, 0.3), 0 1px 3px 1px rgba(60, 64, 67, 0.15);\n",
              "    fill: var(--button-hover-fill-color);\n",
              "  }\n",
              "\n",
              "  .colab-df-quickchart-complete:disabled,\n",
              "  .colab-df-quickchart-complete:disabled:hover {\n",
              "    background-color: var(--disabled-bg-color);\n",
              "    fill: var(--disabled-fill-color);\n",
              "    box-shadow: none;\n",
              "  }\n",
              "\n",
              "  .colab-df-spinner {\n",
              "    border: 2px solid var(--fill-color);\n",
              "    border-color: transparent;\n",
              "    border-bottom-color: var(--fill-color);\n",
              "    animation:\n",
              "      spin 1s steps(1) infinite;\n",
              "  }\n",
              "\n",
              "  @keyframes spin {\n",
              "    0% {\n",
              "      border-color: transparent;\n",
              "      border-bottom-color: var(--fill-color);\n",
              "      border-left-color: var(--fill-color);\n",
              "    }\n",
              "    20% {\n",
              "      border-color: transparent;\n",
              "      border-left-color: var(--fill-color);\n",
              "      border-top-color: var(--fill-color);\n",
              "    }\n",
              "    30% {\n",
              "      border-color: transparent;\n",
              "      border-left-color: var(--fill-color);\n",
              "      border-top-color: var(--fill-color);\n",
              "      border-right-color: var(--fill-color);\n",
              "    }\n",
              "    40% {\n",
              "      border-color: transparent;\n",
              "      border-right-color: var(--fill-color);\n",
              "      border-top-color: var(--fill-color);\n",
              "    }\n",
              "    60% {\n",
              "      border-color: transparent;\n",
              "      border-right-color: var(--fill-color);\n",
              "    }\n",
              "    80% {\n",
              "      border-color: transparent;\n",
              "      border-right-color: var(--fill-color);\n",
              "      border-bottom-color: var(--fill-color);\n",
              "    }\n",
              "    90% {\n",
              "      border-color: transparent;\n",
              "      border-bottom-color: var(--fill-color);\n",
              "    }\n",
              "  }\n",
              "</style>\n",
              "\n",
              "  <script>\n",
              "    async function quickchart(key) {\n",
              "      const quickchartButtonEl =\n",
              "        document.querySelector('#' + key + ' button');\n",
              "      quickchartButtonEl.disabled = true;  // To prevent multiple clicks.\n",
              "      quickchartButtonEl.classList.add('colab-df-spinner');\n",
              "      try {\n",
              "        const charts = await google.colab.kernel.invokeFunction(\n",
              "            'suggestCharts', [key], {});\n",
              "      } catch (error) {\n",
              "        console.error('Error during call to suggestCharts:', error);\n",
              "      }\n",
              "      quickchartButtonEl.classList.remove('colab-df-spinner');\n",
              "      quickchartButtonEl.classList.add('colab-df-quickchart-complete');\n",
              "    }\n",
              "    (() => {\n",
              "      let quickchartButtonEl =\n",
              "        document.querySelector('#df-31507833-4b37-4549-9dc4-baa0d5009ab1 button');\n",
              "      quickchartButtonEl.style.display =\n",
              "        google.colab.kernel.accessAllowed ? 'block' : 'none';\n",
              "    })();\n",
              "  </script>\n",
              "</div>\n",
              "    </div>\n",
              "  </div>\n"
            ]
          },
          "metadata": {},
          "execution_count": 73
        }
      ]
    },
    {
      "cell_type": "markdown",
      "metadata": {
        "id": "6-B_qtEaYEd-"
      },
      "source": [
        "### **Q1. Quantos atributos (variáveis) e quantas entradas o nosso conjunto de dados possui? Quais os tipos das variáveis?**\n",
        "\n",
        "Vamos identificar a quantidade de entradas que nosso conjunto de dados possui e ver os tipos de variáveis de cada coluna.\n",
        "Esse dataset que baixamos é a versão \"resumida\" do Airbnb. Mesmo assim já existe o suficiente para nossas análises."
      ]
    },
    {
      "cell_type": "code",
      "metadata": {
        "id": "TFRK0tniLV-G",
        "colab": {
          "base_uri": "https://localhost:8080/",
          "height": 421
        },
        "outputId": "30b0e69c-bc88-49ec-b31d-149d5500307e"
      },
      "source": [
        "# identificar o volume de dados do DataFrame\n",
        "print(\"Entradas:\\t {}\".format(df.shape[0]))\n",
        "print(\"Variáveis:\\t {}\\n\".format(df.shape[1]))\n",
        "\n",
        "# verificar as 5 primeiras entradas do dataset\n",
        "display(df.dtypes)"
      ],
      "execution_count": 74,
      "outputs": [
        {
          "output_type": "stream",
          "name": "stdout",
          "text": [
            "Entradas:\t 5388\n",
            "Variáveis:\t 18\n",
            "\n"
          ]
        },
        {
          "output_type": "display_data",
          "data": {
            "text/plain": [
              "id                                  int64\n",
              "name                               object\n",
              "host_id                             int64\n",
              "host_name                          object\n",
              "neighbourhood_group               float64\n",
              "neighbourhood                      object\n",
              "latitude                          float64\n",
              "longitude                         float64\n",
              "room_type                          object\n",
              "price                               int64\n",
              "minimum_nights                      int64\n",
              "number_of_reviews                   int64\n",
              "last_review                        object\n",
              "reviews_per_month                 float64\n",
              "calculated_host_listings_count      int64\n",
              "availability_365                    int64\n",
              "number_of_reviews_ltm               int64\n",
              "license                            object\n",
              "dtype: object"
            ]
          },
          "metadata": {}
        }
      ]
    },
    {
      "cell_type": "markdown",
      "metadata": {
        "id": "yz1urSUGW9iE"
      },
      "source": [
        "### **Q2. Qual a porcentagem de valores ausentes no *dataset*?**\n",
        "\n",
        "A qualidade de um dataset está diretamente relacionada à quantidade de valores ausentes. É importante entender logo no início se esses valores nulos são significativos comparados ao total de entradas.\n",
        "\n",
        "\n",
        "* É possível ver que a coluna `neighbourhood_group` possui 100% dos seus valores faltantes.\n",
        "* A variável `license` possui mais de 1/3 de valores nulos.\n",
        "* As variáveis `reviews_per_month` e `last_review` possuem 14,57% de valores nulos."
      ]
    },
    {
      "cell_type": "code",
      "metadata": {
        "id": "plk2FjbCXOqP",
        "colab": {
          "base_uri": "https://localhost:8080/"
        },
        "outputId": "3128f871-24a6-45ca-a9d6-5613fc484154"
      },
      "source": [
        "# ordenar em ordem decrescente as variáveis por seus valores ausentes em valor percentual\n",
        "100*(df.isnull().sum()/df.shape[0]).sort_values(ascending=False)"
      ],
      "execution_count": 75,
      "outputs": [
        {
          "output_type": "execute_result",
          "data": {
            "text/plain": [
              "neighbourhood_group               100.000000\n",
              "license                            37.787676\n",
              "reviews_per_month                  14.569414\n",
              "last_review                        14.569414\n",
              "minimum_nights                      0.000000\n",
              "number_of_reviews_ltm               0.000000\n",
              "availability_365                    0.000000\n",
              "calculated_host_listings_count      0.000000\n",
              "number_of_reviews                   0.000000\n",
              "id                                  0.000000\n",
              "name                                0.000000\n",
              "room_type                           0.000000\n",
              "longitude                           0.000000\n",
              "latitude                            0.000000\n",
              "neighbourhood                       0.000000\n",
              "host_name                           0.000000\n",
              "host_id                             0.000000\n",
              "price                               0.000000\n",
              "dtype: float64"
            ]
          },
          "metadata": {},
          "execution_count": 75
        }
      ]
    },
    {
      "cell_type": "markdown",
      "metadata": {
        "id": "iHXvvHIxaoNc"
      },
      "source": [
        "### **Q3. Qual o tipo de distribuição das variáveis?**\n",
        "\n",
        "Para identificar a distribuição das variáveis, irei plotar o histograma."
      ]
    },
    {
      "cell_type": "code",
      "metadata": {
        "id": "q2wWSfeRbmBo",
        "colab": {
          "base_uri": "https://localhost:8080/",
          "height": 853
        },
        "outputId": "f2456935-19da-4641-9d25-97cfcdd97ddc"
      },
      "source": [
        "# plotar o histograma das variáveis numéricas\n",
        "df.hist(bins=15, figsize=(15,10));"
      ],
      "execution_count": 76,
      "outputs": [
        {
          "output_type": "display_data",
          "data": {
            "text/plain": [
              "<Figure size 1500x1000 with 12 Axes>"
            ],
            "image/png": "[encoded data removed]"
          },
          "metadata": {}
        }
      ]
    },
    {
      "cell_type": "markdown",
      "metadata": {
        "id": "7x4aw1j5wNmn"
      },
      "source": [
        "### **Q4. Qual a média dos preços de aluguel?**\n",
        "\n",
        "Pela distribuição do histograma, é possível verificar indícios da presença de *outliers*. Olhe por exemplo as variáveis `price`, `minimum_nights` e `calculated_host_listings_count`.\n",
        "\n",
        "Os valores não seguem uma distruição, e distorcem toda a representação gráfica. Podemos observar que o preço médio em uma propriedade é de U$ 251,03, porém o gráfico está muito distorcido justamente por conta dos *outliers*."
      ]
    },
    {
      "cell_type": "code",
      "metadata": {
        "id": "ff-8gUahLk-C",
        "colab": {
          "base_uri": "https://localhost:8080/"
        },
        "outputId": "1a0e2a03-ce36-4c02-906b-9d5a3da533ac"
      },
      "source": [
        "# ver a média da coluna `price``\n",
        "df.price.mean()"
      ],
      "execution_count": 77,
      "outputs": [
        {
          "output_type": "execute_result",
          "data": {
            "text/plain": [
              "251.0283964365256"
            ]
          },
          "metadata": {},
          "execution_count": 77
        }
      ]
    },
    {
      "cell_type": "markdown",
      "metadata": {
        "id": "IXn2oIo5qx-w"
      },
      "source": [
        "### **Q4. Qual a correlação existente entre as variáveis**\n",
        "\n",
        "Correlação significa que existe uma relação entre duas coisas. No nosso contexto, estamos buscando relação ou semelhança entre duas variáveis.\n",
        "\n",
        "Essa relação pode ser medida, e é função do coeficiente de correlação estabelecer qual a intensidade dela. Para identificar as correlações existentes entre as variáveis de interesse, vou:\n",
        "\n",
        "* Criar uma matriz de correlação\n",
        "* Gerar um *heatmap* a partir dessa matriz, usando a biblioteca `seaborn`"
      ]
    },
    {
      "cell_type": "code",
      "metadata": {
        "id": "x2ayzBajqxyd",
        "colab": {
          "base_uri": "https://localhost:8080/",
          "height": 269
        },
        "outputId": "1e757613-8fd5-4746-8900-11db6bb4c994"
      },
      "source": [
        "# criar uma matriz de correlação\n",
        "corr = df[['price', 'minimum_nights', 'number_of_reviews', 'reviews_per_month',\n",
        "    'calculated_host_listings_count', 'availability_365','number_of_reviews_ltm']].corr()\n",
        "# mostrar a matriz de correlação\n",
        "display(corr)"
      ],
      "execution_count": 78,
      "outputs": [
        {
          "output_type": "display_data",
          "data": {
            "text/plain": [
              "                                   price  minimum_nights  number_of_reviews  \\\n",
              "price                           1.000000       -0.015798          -0.011962   \n",
              "minimum_nights                 -0.015798        1.000000          -0.196151   \n",
              "number_of_reviews              -0.011962       -0.196151           1.000000   \n",
              "reviews_per_month              -0.014857       -0.358906           0.600939   \n",
              "calculated_host_listings_count  0.000602        0.076532          -0.156688   \n",
              "availability_365               -0.027857        0.083541          -0.075352   \n",
              "number_of_reviews_ltm          -0.007076       -0.354503           0.645515   \n",
              "\n",
              "                                reviews_per_month  \\\n",
              "price                                   -0.014857   \n",
              "minimum_nights                          -0.358906   \n",
              "number_of_reviews                        0.600939   \n",
              "reviews_per_month                        1.000000   \n",
              "calculated_host_listings_count          -0.126567   \n",
              "availability_365                        -0.048735   \n",
              "number_of_reviews_ltm                    0.828029   \n",
              "\n",
              "                                calculated_host_listings_count  \\\n",
              "price                                                 0.000602   \n",
              "minimum_nights                                        0.076532   \n",
              "number_of_reviews                                    -0.156688   \n",
              "reviews_per_month                                    -0.126567   \n",
              "calculated_host_listings_count                        1.000000   \n",
              "availability_365                                      0.027464   \n",
              "number_of_reviews_ltm                                -0.148445   \n",
              "\n",
              "                                availability_365  number_of_reviews_ltm  \n",
              "price                                  -0.027857              -0.007076  \n",
              "minimum_nights                          0.083541              -0.354503  \n",
              "number_of_reviews                      -0.075352               0.645515  \n",
              "reviews_per_month                      -0.048735               0.828029  \n",
              "calculated_host_listings_count          0.027464              -0.148445  \n",
              "availability_365                        1.000000              -0.070215  \n",
              "number_of_reviews_ltm                  -0.070215               1.000000  "
            ],
            "text/html": [
              "\n",
              "  <div id=\"df-84d78f45-4529-4969-9054-38268a8e074d\" class=\"colab-df-container\">\n",
              "    <div>\n",
              "<style scoped>\n",
              "    .dataframe tbody tr th:only-of-type {\n",
              "        vertical-align: middle;\n",
              "    }\n",
              "\n",
              "    .dataframe tbody tr th {\n",
              "        vertical-align: top;\n",
              "    }\n",
              "\n",
              "    .dataframe thead th {\n",
              "        text-align: right;\n",
              "    }\n",
              "</style>\n",
              "<table border=\"1\" class=\"dataframe\">\n",
              "  <thead>\n",
              "    <tr style=\"text-align: right;\">\n",
              "      <th></th>\n",
              "      <th>price</th>\n",
              "      <th>minimum_nights</th>\n",
              "      <th>number_of_reviews</th>\n",
              "      <th>reviews_per_month</th>\n",
              "      <th>calculated_host_listings_count</th>\n",
              "      <th>availability_365</th>\n",
              "      <th>number_of_reviews_ltm</th>\n",
              "    </tr>\n",
              "  </thead>\n",
              "  <tbody>\n",
              "    <tr>\n",
              "      <th>price</th>\n",
              "      <td>1.000000</td>\n",
              "      <td>-0.015798</td>\n",
              "      <td>-0.011962</td>\n",
              "      <td>-0.014857</td>\n",
              "      <td>0.000602</td>\n",
              "      <td>-0.027857</td>\n",
              "      <td>-0.007076</td>\n",
              "    </tr>\n",
              "    <tr>\n",
              "      <th>minimum_nights</th>\n",
              "      <td>-0.015798</td>\n",
              "      <td>1.000000</td>\n",
              "      <td>-0.196151</td>\n",
              "      <td>-0.358906</td>\n",
              "      <td>0.076532</td>\n",
              "      <td>0.083541</td>\n",
              "      <td>-0.354503</td>\n",
              "    </tr>\n",
              "    <tr>\n",
              "      <th>number_of_reviews</th>\n",
              "      <td>-0.011962</td>\n",
              "      <td>-0.196151</td>\n",
              "      <td>1.000000</td>\n",
              "      <td>0.600939</td>\n",
              "      <td>-0.156688</td>\n",
              "      <td>-0.075352</td>\n",
              "      <td>0.645515</td>\n",
              "    </tr>\n",
              "    <tr>\n",
              "      <th>reviews_per_month</th>\n",
              "      <td>-0.014857</td>\n",
              "      <td>-0.358906</td>\n",
              "      <td>0.600939</td>\n",
              "      <td>1.000000</td>\n",
              "      <td>-0.126567</td>\n",
              "      <td>-0.048735</td>\n",
              "      <td>0.828029</td>\n",
              "    </tr>\n",
              "    <tr>\n",
              "      <th>calculated_host_listings_count</th>\n",
              "      <td>0.000602</td>\n",
              "      <td>0.076532</td>\n",
              "      <td>-0.156688</td>\n",
              "      <td>-0.126567</td>\n",
              "      <td>1.000000</td>\n",
              "      <td>0.027464</td>\n",
              "      <td>-0.148445</td>\n",
              "    </tr>\n",
              "    <tr>\n",
              "      <th>availability_365</th>\n",
              "      <td>-0.027857</td>\n",
              "      <td>0.083541</td>\n",
              "      <td>-0.075352</td>\n",
              "      <td>-0.048735</td>\n",
              "      <td>0.027464</td>\n",
              "      <td>1.000000</td>\n",
              "      <td>-0.070215</td>\n",
              "    </tr>\n",
              "    <tr>\n",
              "      <th>number_of_reviews_ltm</th>\n",
              "      <td>-0.007076</td>\n",
              "      <td>-0.354503</td>\n",
              "      <td>0.645515</td>\n",
              "      <td>0.828029</td>\n",
              "      <td>-0.148445</td>\n",
              "      <td>-0.070215</td>\n",
              "      <td>1.000000</td>\n",
              "    </tr>\n",
              "  </tbody>\n",
              "</table>\n",
              "</div>\n",
              "    <div class=\"colab-df-buttons\">\n",
              "\n",
              "  <div class=\"colab-df-container\">\n",
              "    <button class=\"colab-df-convert\" onclick=\"convertToInteractive('df-84d78f45-4529-4969-9054-38268a8e074d')\"\n",
              "            title=\"Convert this dataframe to an interactive table.\"\n",
              "            style=\"display:none;\">\n",
              "\n",
              "  <svg xmlns=\"http://www.w3.org/2000/svg\" height=\"24px\" viewBox=\"0 -960 960 960\">\n",
              "    <path d=\"M120-120v-720h720v720H120Zm60-500h600v-160H180v160Zm220 220h160v-160H400v160Zm0 220h160v-160H400v160ZM180-400h160v-160H180v160Zm440 0h160v-160H620v160ZM180-180h160v-160H180v160Zm440 0h160v-160H620v160Z\"/>\n",
              "  </svg>\n",
              "    </button>\n",
              "\n",
              "  <style>\n",
              "    .colab-df-container {\n",
              "      display:flex;\n",
              "      gap: 12px;\n",
              "    }\n",
              "\n",
              "    .colab-df-convert {\n",
              "      background-color: #E8F0FE;\n",
              "      border: none;\n",
              "      border-radius: 50%;\n",
              "      cursor: pointer;\n",
              "      display: none;\n",
              "      fill: #1967D2;\n",
              "      height: 32px;\n",
              "      padding: 0 0 0 0;\n",
              "      width: 32px;\n",
              "    }\n",
              "\n",
              "    .colab-df-convert:hover {\n",
              "      background-color: #E2EBFA;\n",
              "      box-shadow: 0px 1px 2px rgba(60, 64, 67, 0.3), 0px 1px 3px 1px rgba(60, 64, 67, 0.15);\n",
              "      fill: #174EA6;\n",
              "    }\n",
              "\n",
              "    .colab-df-buttons div {\n",
              "      margin-bottom: 4px;\n",
              "    }\n",
              "\n",
              "    [theme=dark] .colab-df-convert {\n",
              "      background-color: #3B4455;\n",
              "      fill: #D2E3FC;\n",
              "    }\n",
              "\n",
              "    [theme=dark] .colab-df-convert:hover {\n",
              "      background-color: #434B5C;\n",
              "      box-shadow: 0px 1px 3px 1px rgba(0, 0, 0, 0.15);\n",
              "      filter: drop-shadow(0px 1px 2px rgba(0, 0, 0, 0.3));\n",
              "      fill: #FFFFFF;\n",
              "    }\n",
              "  </style>\n",
              "\n",
              "    <script>\n",
              "      const buttonEl =\n",
              "        document.querySelector('#df-84d78f45-4529-4969-9054-38268a8e074d button.colab-df-convert');\n",
              "      buttonEl.style.display =\n",
              "        google.colab.kernel.accessAllowed ? 'block' : 'none';\n",
              "\n",
              "      async function convertToInteractive(key) {\n",
              "        const element = document.querySelector('#df-84d78f45-4529-4969-9054-38268a8e074d');\n",
              "        const dataTable =\n",
              "          await google.colab.kernel.invokeFunction('convertToInteractive',\n",
              "                                                    [key], {});\n",
              "        if (!dataTable) return;\n",
              "\n",
              "        const docLinkHtml = 'Like what you see? Visit the ' +\n",
              "          '<a target=\"_blank\" href=https://colab.research.google.com/notebooks/data_table.ipynb>data table notebook</a>'\n",
              "          + ' to learn more about interactive tables.';\n",
              "        element.innerHTML = '';\n",
              "        dataTable['output_type'] = 'display_data';\n",
              "        await google.colab.output.renderOutput(dataTable, element);\n",
              "        const docLink = document.createElement('div');\n",
              "        docLink.innerHTML = docLinkHtml;\n",
              "        element.appendChild(docLink);\n",
              "      }\n",
              "    </script>\n",
              "  </div>\n",
              "\n",
              "\n",
              "<div id=\"df-f74df509-19be-42b2-b8eb-2bd229e41967\">\n",
              "  <button class=\"colab-df-quickchart\" onclick=\"quickchart('df-f74df509-19be-42b2-b8eb-2bd229e41967')\"\n",
              "            title=\"Suggest charts\"\n",
              "            style=\"display:none;\">\n",
              "\n",
              "<svg xmlns=\"http://www.w3.org/2000/svg\" height=\"24px\"viewBox=\"0 0 24 24\"\n",
              "     width=\"24px\">\n",
              "    <g>\n",
              "        <path d=\"M19 3H5c-1.1 0-2 .9-2 2v14c0 1.1.9 2 2 2h14c1.1 0 2-.9 2-2V5c0-1.1-.9-2-2-2zM9 17H7v-7h2v7zm4 0h-2V7h2v10zm4 0h-2v-4h2v4z\"/>\n",
              "    </g>\n",
              "</svg>\n",
              "  </button>\n",
              "\n",
              "<style>\n",
              "  .colab-df-quickchart {\n",
              "      --bg-color: #E8F0FE;\n",
              "      --fill-color: #1967D2;\n",
              "      --hover-bg-color: #E2EBFA;\n",
              "      --hover-fill-color: #174EA6;\n",
              "      --disabled-fill-color: #AAA;\n",
              "      --disabled-bg-color: #DDD;\n",
              "  }\n",
              "\n",
              "  [theme=dark] .colab-df-quickchart {\n",
              "      --bg-color: #3B4455;\n",
              "      --fill-color: #D2E3FC;\n",
              "      --hover-bg-color: #434B5C;\n",
              "      --hover-fill-color: #FFFFFF;\n",
              "      --disabled-bg-color: #3B4455;\n",
              "      --disabled-fill-color: #666;\n",
              "  }\n",
              "\n",
              "  .colab-df-quickchart {\n",
              "    background-color: var(--bg-color);\n",
              "    border: none;\n",
              "    border-radius: 50%;\n",
              "    cursor: pointer;\n",
              "    display: none;\n",
              "    fill: var(--fill-color);\n",
              "    height: 32px;\n",
              "    padding: 0;\n",
              "    width: 32px;\n",
              "  }\n",
              "\n",
              "  .colab-df-quickchart:hover {\n",
              "    background-color: var(--hover-bg-color);\n",
              "    box-shadow: 0 1px 2px rgba(60, 64, 67, 0.3), 0 1px 3px 1px rgba(60, 64, 67, 0.15);\n",
              "    fill: var(--button-hover-fill-color);\n",
              "  }\n",
              "\n",
              "  .colab-df-quickchart-complete:disabled,\n",
              "  .colab-df-quickchart-complete:disabled:hover {\n",
              "    background-color: var(--disabled-bg-color);\n",
              "    fill: var(--disabled-fill-color);\n",
              "    box-shadow: none;\n",
              "  }\n",
              "\n",
              "  .colab-df-spinner {\n",
              "    border: 2px solid var(--fill-color);\n",
              "    border-color: transparent;\n",
              "    border-bottom-color: var(--fill-color);\n",
              "    animation:\n",
              "      spin 1s steps(1) infinite;\n",
              "  }\n",
              "\n",
              "  @keyframes spin {\n",
              "    0% {\n",
              "      border-color: transparent;\n",
              "      border-bottom-color: var(--fill-color);\n",
              "      border-left-color: var(--fill-color);\n",
              "    }\n",
              "    20% {\n",
              "      border-color: transparent;\n",
              "      border-left-color: var(--fill-color);\n",
              "      border-top-color: var(--fill-color);\n",
              "    }\n",
              "    30% {\n",
              "      border-color: transparent;\n",
              "      border-left-color: var(--fill-color);\n",
              "      border-top-color: var(--fill-color);\n",
              "      border-right-color: var(--fill-color);\n",
              "    }\n",
              "    40% {\n",
              "      border-color: transparent;\n",
              "      border-right-color: var(--fill-color);\n",
              "      border-top-color: var(--fill-color);\n",
              "    }\n",
              "    60% {\n",
              "      border-color: transparent;\n",
              "      border-right-color: var(--fill-color);\n",
              "    }\n",
              "    80% {\n",
              "      border-color: transparent;\n",
              "      border-right-color: var(--fill-color);\n",
              "      border-bottom-color: var(--fill-color);\n",
              "    }\n",
              "    90% {\n",
              "      border-color: transparent;\n",
              "      border-bottom-color: var(--fill-color);\n",
              "    }\n",
              "  }\n",
              "</style>\n",
              "\n",
              "  <script>\n",
              "    async function quickchart(key) {\n",
              "      const quickchartButtonEl =\n",
              "        document.querySelector('#' + key + ' button');\n",
              "      quickchartButtonEl.disabled = true;  // To prevent multiple clicks.\n",
              "      quickchartButtonEl.classList.add('colab-df-spinner');\n",
              "      try {\n",
              "        const charts = await google.colab.kernel.invokeFunction(\n",
              "            'suggestCharts', [key], {});\n",
              "      } catch (error) {\n",
              "        console.error('Error during call to suggestCharts:', error);\n",
              "      }\n",
              "      quickchartButtonEl.classList.remove('colab-df-spinner');\n",
              "      quickchartButtonEl.classList.add('colab-df-quickchart-complete');\n",
              "    }\n",
              "    (() => {\n",
              "      let quickchartButtonEl =\n",
              "        document.querySelector('#df-f74df509-19be-42b2-b8eb-2bd229e41967 button');\n",
              "      quickchartButtonEl.style.display =\n",
              "        google.colab.kernel.accessAllowed ? 'block' : 'none';\n",
              "    })();\n",
              "  </script>\n",
              "</div>\n",
              "    </div>\n",
              "  </div>\n"
            ]
          },
          "metadata": {}
        }
      ]
    },
    {
      "cell_type": "code",
      "metadata": {
        "id": "91UujDr6ueqE",
        "colab": {
          "base_uri": "https://localhost:8080/",
          "height": 632
        },
        "outputId": "2cd6bd11-0103-4489-d290-ba2898cce175"
      },
      "source": [
        "# plotar um heatmap a partir das correlações\n",
        "sns.heatmap(corr, cmap='RdBu', fmt='.2f', square=True, linecolor='white', annot=True);"
      ],
      "execution_count": 79,
      "outputs": [
        {
          "output_type": "display_data",
          "data": {
            "text/plain": [
              "<Figure size 640x480 with 2 Axes>"
            ],
            "image/png": "[encoded data removed]"
          },
          "metadata": {}
        }
      ]
    },
    {
      "cell_type": "markdown",
      "source": [
        "Podemos repara que os únicos parâmetros correlacionados (mais azuis) são números de avaliações totais, números de avaliações por mês e números de avaliações dos últimos 12 meses. Faz sentido que sejam relacionadas, já que esses três parâmetros avaliam a mesma coisa, mas por períodos distintos.\n",
        "\n",
        "\n"
      ],
      "metadata": {
        "id": "OW_yKSNtKhit"
      }
    },
    {
      "cell_type": "markdown",
      "metadata": {
        "id": "7b6RMWpuHKN-"
      },
      "source": [
        "### **Q5. Qual o tipo de imóvel mais alugado no Airbnb?**\n",
        "\n",
        "A coluna da variável `room_type` indica o tipo de locação que está anunciada no Airbnb. Se você já alugou no site, sabe que existem opções de apartamentos/casas inteiras, apenas o aluguel de um quarto ou mesmo dividir o quarto com outras pessoas.\n",
        "\n",
        "Vamos contar a quantidade de ocorrências de cada tipo de aluguel, usando o método `value_counts()`."
      ]
    },
    {
      "cell_type": "code",
      "metadata": {
        "id": "ueLPNWvPHgfB",
        "colab": {
          "base_uri": "https://localhost:8080/"
        },
        "outputId": "b0ccda16-5185-4e06-8c95-1fc1e01d1301"
      },
      "source": [
        "# mostrar a quantidade de cada tipo de imóvel disponível\n",
        "df.room_type.value_counts()"
      ],
      "execution_count": 80,
      "outputs": [
        {
          "output_type": "execute_result",
          "data": {
            "text/plain": [
              "Entire home/apt    4565\n",
              "Private room        780\n",
              "Shared room          36\n",
              "Hotel room            7\n",
              "Name: room_type, dtype: int64"
            ]
          },
          "metadata": {},
          "execution_count": 80
        }
      ]
    },
    {
      "cell_type": "code",
      "metadata": {
        "id": "EvwoO-XAHhIm",
        "colab": {
          "base_uri": "https://localhost:8080/"
        },
        "outputId": "b52f4a93-b9fc-45b5-8cf0-9fc50c5b9093"
      },
      "source": [
        "# mostrar a porcentagem de cada tipo de imóvel disponível\n",
        "100*df.room_type.value_counts()/df.shape[0]"
      ],
      "execution_count": 81,
      "outputs": [
        {
          "output_type": "execute_result",
          "data": {
            "text/plain": [
              "Entire home/apt    84.725316\n",
              "Private room       14.476615\n",
              "Shared room         0.668151\n",
              "Hotel room          0.129918\n",
              "Name: room_type, dtype: float64"
            ]
          },
          "metadata": {},
          "execution_count": 81
        }
      ]
    },
    {
      "cell_type": "markdown",
      "source": [
        "A grande maioria dos aluguéis do Airbnb vem de casas/apartamentos inteiros e uma boa parte de quartos privados. Isso equivale a mais de 99% das acomodações de Denver."
      ],
      "metadata": {
        "id": "1oD1Y6GUQ5pn"
      }
    },
    {
      "cell_type": "markdown",
      "metadata": {
        "id": "MFa5NbnLJMcd"
      },
      "source": [
        "### **Q6. Qual a localidade mais cara do dataset?**\n",
        "\n",
        "Uma maneira de se verificar uma variável em função da outra é usando `groupby()`. No caso, queremos comparar os bairros (*neighbourhoods*) a partir do preço de locação.\n"
      ]
    },
    {
      "cell_type": "code",
      "metadata": {
        "id": "MD_xa143JZpi",
        "colab": {
          "base_uri": "https://localhost:8080/"
        },
        "outputId": "3ee15ac4-75a6-409d-a7d1-0d563597dc28"
      },
      "source": [
        "# ver preços por bairros, na média\n",
        "df.groupby(['neighbourhood']).price.mean().sort_values(ascending=False)[:10]"
      ],
      "execution_count": 82,
      "outputs": [
        {
          "output_type": "execute_result",
          "data": {
            "text/plain": [
              "neighbourhood\n",
              "North Park Hill    1459.650000\n",
              "Cheesman Park       773.184783\n",
              "Lincoln Park        538.405405\n",
              "Capitol Hill        511.386076\n",
              "Sunnyside           362.559524\n",
              "West Highland       356.366460\n",
              "Belcaro             352.333333\n",
              "Regis               326.464286\n",
              "Highland            312.856707\n",
              "Jefferson Park      305.714286\n",
              "Name: price, dtype: float64"
            ]
          },
          "metadata": {},
          "execution_count": 82
        }
      ]
    },
    {
      "cell_type": "markdown",
      "source": [
        "Eu escolhi a cidade de Denver para analisar porque estive lá uma vez, mas não conheço nada sobre os bairros, como quais mais nobres ou mais simples, de forma não tenho como dizer se o preço médio por região mostrado acima faz sentido. Portanto, fiz uma [breve pesquisa](https://denverrelocationguide.com/top-10-most-expensive-neighborhoods-to-rent-in-denver/) no Google para descobrir os bairros mais caros e comparar com meus resultados.\n",
        "Eu pude perceber que bairros como *North Park Hill*, *Cheesman Park* e *Lincoln Park* não estão no top 10 bairros mais caros de acordo com o *site* de referência. Isso provavelmente ocorreu por conta de alguns *outliers* e para confirmar, criei o seguinte gráfico abaixo referente ao preço em *North Park Hill*:"
      ],
      "metadata": {
        "id": "3B9QNSNH2Lk1"
      }
    },
    {
      "cell_type": "code",
      "source": [
        "# Criar um gráfio estilo box para verificar a distribuição de preços em North Park Hill\n",
        "df[df.neighbourhood == \"North Park Hill\"].price.plot(kind='box', vert=False, figsize=(15, 3),)\n",
        "plt.show()"
      ],
      "metadata": {
        "colab": {
          "base_uri": "https://localhost:8080/",
          "height": 291
        },
        "id": "_fPNeB74UGu6",
        "outputId": "02cf3866-3808-479e-828b-ab8ccc67a503"
      },
      "execution_count": 83,
      "outputs": [
        {
          "output_type": "display_data",
          "data": {
            "text/plain": [
              "<Figure size 1500x300 with 1 Axes>"
            ],
            "image/png": "[encoded data removed]"
          },
          "metadata": {}
        }
      ]
    },
    {
      "cell_type": "markdown",
      "source": [
        "Claramente percebe-se que *North Park Hill* não é um local caro como aparentou na primeira análise, visto que somente há 3 entradas com valores acima de 450 dólares a diária e sua média é 1459 dólares a diária. Para ter uma análise mais precisa, vamos limitar que cada diária de todo o dataframe não pode passar de 1000 dólares, já que isso equivale a mais de 99% de todos os dados e trará mais confiabilidade na análise de qual bairro é mais caro de se alugar."
      ],
      "metadata": {
        "id": "iaSWFVle4GEp"
      }
    },
    {
      "cell_type": "code",
      "source": [
        "# Criar um dataframe somente com acomodações em North Park Hill\n",
        "nph = df[df.neighbourhood == \"North Park Hill\"]"
      ],
      "metadata": {
        "id": "235ktjvhWa85"
      },
      "execution_count": 84,
      "outputs": []
    },
    {
      "cell_type": "code",
      "source": [
        "# ver quantidade de valores acima de 30 dias para minimum_nights\n",
        "print(\"price: valores acima de 450:\")\n",
        "print(\"{} entradas\".format(len(nph[nph.price > 450])))\n",
        "print(\"{:.2f}%\".format((len(nph[nph.price > 450]) / nph.shape[0])*100))"
      ],
      "metadata": {
        "colab": {
          "base_uri": "https://localhost:8080/"
        },
        "id": "ZA9zHjzSVAL7",
        "outputId": "d2eaf2e6-fc06-4f73-fd36-625a8c59ee7c"
      },
      "execution_count": 85,
      "outputs": [
        {
          "output_type": "stream",
          "name": "stdout",
          "text": [
            "price: valores acima de 450:\n",
            "3 entradas\n",
            "3.75%\n"
          ]
        }
      ]
    },
    {
      "cell_type": "code",
      "source": [
        "# Criando um novo dataframe com a limitação de no máximo U$ 1.000,00 a diária\n",
        "dfx = df[df.price <= 1000]"
      ],
      "metadata": {
        "id": "jbXNmeB-X4W3"
      },
      "execution_count": 131,
      "outputs": []
    },
    {
      "cell_type": "code",
      "source": [
        "# Verificar a porcentagem de dados que estamos utilizando comparado ao dataframe inicial\n",
        "dfx.shape[0]/df.shape[0]"
      ],
      "metadata": {
        "colab": {
          "base_uri": "https://localhost:8080/"
        },
        "id": "FlannObtX942",
        "outputId": "a0c03c2f-d504-4cfa-de00-0ac2e44dd534"
      },
      "execution_count": 132,
      "outputs": [
        {
          "output_type": "execute_result",
          "data": {
            "text/plain": [
              "0.9920193021529324"
            ]
          },
          "metadata": {},
          "execution_count": 132
        }
      ]
    },
    {
      "cell_type": "code",
      "source": [
        "# Nova análise das vizinhanças mais caras\n",
        "dfx.groupby(['neighbourhood']).price.mean().sort_values(ascending=False)[:10]"
      ],
      "metadata": {
        "colab": {
          "base_uri": "https://localhost:8080/"
        },
        "id": "9RaOd230YQe1",
        "outputId": "29d437b6-149f-4b72-cb2f-8037e2b96b46"
      },
      "execution_count": 133,
      "outputs": [
        {
          "output_type": "execute_result",
          "data": {
            "text/plain": [
              "neighbourhood\n",
              "Hilltop                        276.100000\n",
              "University Park                257.000000\n",
              "Belcaro                        242.571429\n",
              "Wellshire                      237.250000\n",
              "College View - South Platte    233.933333\n",
              "Country Club                   226.800000\n",
              "Jefferson Park                 212.509615\n",
              "Highland                       211.332298\n",
              "Union Station                  210.211055\n",
              "Washington Park                209.972222\n",
              "Name: price, dtype: float64"
            ]
          },
          "metadata": {},
          "execution_count": 133
        }
      ]
    },
    {
      "cell_type": "markdown",
      "source": [
        "Percebe-se que faz mais sentido agora quanto às médias de preços para as diárias, já que não há valores tão discrepantes. Além disso, de acordo com a pesquisa feita anteriormente, bairros como *University Park*, *College View - South Platte* e *Washington Park* estão na lista dos 10 locais mais caros, enquanto não havia nenhum bairro compatível na lista anterior.\n",
        "Com toda certeza é possível fazer uma análise mais profunda e procurar *outliers* na lista acima, como por exemplo *Hilltop* que possui vários pontos longe da sua mediana, enquanto *Wellshire* possui apenas 8 acomodações, sendo que uma atinge o valor de 800 dólares a diária, o que se considera um *outlier*. Porém, a ideia aqui não é destrinchar tão aprofundamente dentro dos dados, e sim eliminar os dados mais absurdos e gerar uma análise mais fidedigna possível."
      ],
      "metadata": {
        "id": "fFhdRDC15wGH"
      }
    },
    {
      "cell_type": "markdown",
      "metadata": {
        "id": "vTneAMRUYvr1"
      },
      "source": [
        "### **Q7. Qual é a média do mínimo de noites para aluguel (minimum_nights)?**\n",
        "\n",
        "Da mesma maneira que foram analisados os preços de cada diária, para avaliar a média do mínimo de noites para aluguel, já podemos verificar se há *outliers* e eliminá-los de forma a utilizar pelo menos 99% dos dados"
      ]
    },
    {
      "cell_type": "markdown",
      "source": [],
      "metadata": {
        "id": "2jzW7Q15HyFH"
      }
    },
    {
      "cell_type": "code",
      "source": [
        "# Verificar outliers através do gráfico estilo box\n",
        "dfx.minimum_nights.plot(kind='box', vert=False, figsize=(15, 3),)"
      ],
      "metadata": {
        "colab": {
          "base_uri": "https://localhost:8080/",
          "height": 309
        },
        "id": "HS-oX1EoJAy2",
        "outputId": "54b32832-0794-4c85-91fb-8109095b8cb1"
      },
      "execution_count": 146,
      "outputs": [
        {
          "output_type": "execute_result",
          "data": {
            "text/plain": [
              "<Axes: >"
            ]
          },
          "metadata": {},
          "execution_count": 146
        },
        {
          "output_type": "display_data",
          "data": {
            "text/plain": [
              "<Figure size 1500x300 with 1 Axes>"
            ],
            "image/png": "[encoded data removed]"
          },
          "metadata": {}
        }
      ]
    },
    {
      "cell_type": "markdown",
      "source": [
        "Como pode-se perceber, há dados com mínimos de noite equivalentes a mais de 1 ano, o que não faz sentido. Por isso, vamos limitar em até 90 dias, visto que o airbnb é um aplicativo para aluguel por períodos menores e acima dessa quantidade de dias é extremamente raro de acontecer."
      ],
      "metadata": {
        "id": "DeTgbwVBJIpC"
      }
    },
    {
      "cell_type": "code",
      "source": [
        "# Criar um novo dataframe limitando a no máximo 90 dias para a coluna minimum_nights\n",
        "dfy = dfx[dfx.minimum_nights <= 90]"
      ],
      "metadata": {
        "id": "VMUcxJ8f-h1f"
      },
      "execution_count": 166,
      "outputs": []
    },
    {
      "cell_type": "code",
      "source": [
        "# Verificando a porcentagem de dados utilizados\n",
        "dfy.shape[0]/dfx.shape[0]"
      ],
      "metadata": {
        "colab": {
          "base_uri": "https://localhost:8080/"
        },
        "id": "cVs5PNP1HPWw",
        "outputId": "533da9e6-0db7-43c4-97e3-7dca00bae410"
      },
      "execution_count": 156,
      "outputs": [
        {
          "output_type": "execute_result",
          "data": {
            "text/plain": [
              "0.9943872778297475"
            ]
          },
          "metadata": {},
          "execution_count": 156
        }
      ]
    },
    {
      "cell_type": "code",
      "metadata": {
        "id": "_VzNhrEgY82N",
        "colab": {
          "base_uri": "https://localhost:8080/"
        },
        "outputId": "0998e019-534e-4577-d288-29adb17e802a"
      },
      "source": [
        "# ver a média da coluna `minimum_nights`\n",
        "dfy.minimum_nights.mean()"
      ],
      "execution_count": 167,
      "outputs": [
        {
          "output_type": "execute_result",
          "data": {
            "text/plain": [
              "15.863781749764817"
            ]
          },
          "metadata": {},
          "execution_count": 167
        }
      ]
    },
    {
      "cell_type": "markdown",
      "source": [
        "Portanto, a quantidade média de dias mínimos para se alugar uma acomodação em Denver é de aproximadamente 16 dias."
      ],
      "metadata": {
        "id": "YXyudlVAKHal"
      }
    },
    {
      "cell_type": "markdown",
      "metadata": {
        "id": "GkvAg623RjoR"
      },
      "source": [
        "## Conclusões\n",
        "\n",
        "Foi feita apenas uma análise superficial na base de dados do Airbnb, porém já se percebeu que existem *outliers* em algumas das variáveis.\n",
        "\n",
        "Também se notou que em algumas localidades há poucos imóveis disponíveis, o que pode distorcer as informações estatísticas de alguns atributos.\n",
        "\n",
        "Por fim, lembra-se que este *dataset* é uma versão resumida, ideal apenas para uma abordagem inicial, especialmente quando não há expectativas quanto aos resultados da análise."
      ]
    }
  ]
}